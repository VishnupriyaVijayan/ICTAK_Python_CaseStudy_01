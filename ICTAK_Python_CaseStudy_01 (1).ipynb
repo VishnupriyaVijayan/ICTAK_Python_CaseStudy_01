{
 "cells": [
  {
   "cell_type": "raw",
   "id": "3647a833",
   "metadata": {},
   "source": [
    "1). A school has following rules for grading system:\n",
    "a. Below 25 - F\n",
    "b. 25 to 45 - E\n",
    "c. 45 to 50 - D\n",
    "d. 50 to 60 - C\n",
    "e. 60 to 80 - B\n",
    "f. Above 80 - A\n",
    "Ask user to enter marks and print the corresponding grade."
   ]
  },
  {
   "cell_type": "code",
   "execution_count": 1,
   "id": "84131785",
   "metadata": {},
   "outputs": [
    {
     "name": "stdout",
     "output_type": "stream",
     "text": [
      "Enter mark: 37\n",
      "Your Grade is E\n"
     ]
    }
   ],
   "source": [
    "mark=float(input(\"Enter mark: \"))\n",
    "if mark>=80:\n",
    "    print(\"Your Grade is A\")\n",
    "elif mark>=60:\n",
    "    print(\"Your Grade is B\")\n",
    "elif mark>=50:\n",
    "    print(\"Your Grade is C\")\n",
    "elif mark>=45:\n",
    "    print(\"Your Grade is D\")\n",
    "elif mark>=25:\n",
    "    print(\"Your Grade is E\")\n",
    "elif mark>=0:\n",
    "    print(\"Your Grade is F\")\n",
    "else:\n",
    "    print(\"Unidentified \")"
   ]
  },
  {
   "cell_type": "raw",
   "id": "25873e46",
   "metadata": {},
   "source": [
    "2). You have a list of names. Create a new list which contains only the names with non-repeating characters.\n",
    "Sample input = ['John','Peter','Meera','Mini','Krishna']\n",
    "Sample output = [‘John’,Krishna]"
   ]
  },
  {
   "cell_type": "code",
   "execution_count": 2,
   "id": "28cb60a2",
   "metadata": {},
   "outputs": [
    {
     "name": "stdout",
     "output_type": "stream",
     "text": [
      "John True\n",
      "Peter False\n",
      "Meera False\n",
      "Mini False\n",
      "Krishna True\n",
      "\n",
      " Strings with non-repeated characters: \n",
      " ['John', 'Krishna']\n"
     ]
    }
   ],
   "source": [
    "from collections import Counter\n",
    "\n",
    "Sample_output=[]\n",
    "flag=0\n",
    "\n",
    "Sample_input = ['John','Peter','Meera','Mini','Krishna']\n",
    "\n",
    "for name in Sample_input:\n",
    "    count = list(Counter(name).values())\n",
    "    flag=True if all(k==1 for k in count) else False\n",
    "    print(name, flag)\n",
    "    if flag==True:\n",
    "        Sample_output.append(name)\n",
    "        \n",
    "print('\\n Strings with non-repeated characters: \\n',Sample_output)    \n"
   ]
  },
  {
   "cell_type": "raw",
   "id": "3e59d61f",
   "metadata": {},
   "source": [
    "3. Take values of length and breadth of a rectangle from user and check if it is square or not.\n"
   ]
  },
  {
   "cell_type": "code",
   "execution_count": 3,
   "id": "ea55d926",
   "metadata": {},
   "outputs": [
    {
     "name": "stdout",
     "output_type": "stream",
     "text": [
      "Enter length and breadth(cm):  58,59\n",
      "This is not a square.\n"
     ]
    }
   ],
   "source": [
    "a,b=[float(x) for x in input(\"Enter length and breadth(cm):  \").split(\",\")]\n",
    "print(\"This is a square.\") if a==b else print(\"This is not a square.\")"
   ]
  },
  {
   "cell_type": "raw",
   "id": "18f1fab5",
   "metadata": {},
   "source": [
    "4. A student will not be allowed to sit in exam if his/her attendance is less than 75%. \n",
    "Take following input from user \n",
    "Number of classes held \n",
    "Number of classes attended.\n",
    "And print percentage of class attended \n",
    "Is student is allowed to sit in exam or not."
   ]
  },
  {
   "cell_type": "code",
   "execution_count": 4,
   "id": "51877f58",
   "metadata": {},
   "outputs": [
    {
     "name": "stdout",
     "output_type": "stream",
     "text": [
      "Enter total number of classes and number of classes attended:  60,47\n",
      "Attendance %: 78.33333333333333\n",
      " \u001b[1;32m You are eligible to take exam.\n"
     ]
    }
   ],
   "source": [
    "n_class,n_att=[int(x) for x in input(\"Enter total number of classes and number of classes attended:  \").split(\",\")]\n",
    "n_percent=n_att/n_class*100\n",
    "if n_percent>=75:\n",
    "    print(\"Attendance %: {}\\n \\033[1;32m You are eligible to take exam.\".format(n_percent))\n",
    "else:\n",
    "    print(\"Attendance %: {}\\n \\033[1;36m Sorry you are not eligible to take exam.\".format(n_percent)) \n",
    "\n"
   ]
  },
  {
   "cell_type": "raw",
   "id": "47551bd3",
   "metadata": {},
   "source": [
    "5. Create a list by taking length of the list and elements of the list from user. \n",
    "Then find the sum of the elements of the list. Also create a new called even list \n",
    "which contains only even numbers from first list and odd list which contains \n",
    "odd numbers from the list.\n",
    "\n",
    "Sample input:\n",
    "Length of the list = 5\n",
    "List1 = [2,6,3,1,5]\n",
    "\n",
    "Sum = 17\n",
    "Even_list=[2,6]\n",
    "Odd_list=[3,1,5]"
   ]
  },
  {
   "cell_type": "code",
   "execution_count": 5,
   "id": "be5d4622",
   "metadata": {},
   "outputs": [
    {
     "name": "stdout",
     "output_type": "stream",
     "text": [
      "Enter length of the list: 9\n",
      "Enter element: 23\n",
      "Enter element: 31\n",
      "Enter element: 13\n",
      "Enter element: 45\n",
      "Enter element: 57\n",
      "Enter element: 63\n",
      "Enter element: 23\n",
      "Enter element: 34\n",
      "Enter element: 1\n",
      "List:  [23, 31, 13, 45, 57, 63, 23, 34, 1]\n",
      "Sum:  290\n",
      "Even list:  [34]\n",
      "Odd list:  [23, 31, 13, 45, 57, 63, 23, 1]\n"
     ]
    }
   ],
   "source": [
    "n=int(input(\"Enter length of the list: \"))\n",
    "list_1=[]\n",
    "even_list=[]\n",
    "odd_list=[]\n",
    "for k in range(n):\n",
    "    a=int(input(\"Enter element: \"))\n",
    "    list_1.append(a)\n",
    "\n",
    "even_list=[k for k in list_1 if k%2==0]\n",
    "odd_list=[k for k in list_1 if k not in even_list]\n",
    "print(\"List: \",list_1)\n",
    "print(\"Sum: \",sum(list_1))\n",
    "print(\"Even list: \",even_list)\n",
    "print(\"Odd list: \",odd_list)"
   ]
  },
  {
   "cell_type": "raw",
   "id": "4dde87f6",
   "metadata": {},
   "source": [
    "6. Create a sample chatbot for an ecommerce website."
   ]
  },
  {
   "cell_type": "code",
   "execution_count": 6,
   "id": "686a42f7",
   "metadata": {},
   "outputs": [
    {
     "name": "stdout",
     "output_type": "stream",
     "text": [
      " \u001b[1;38m Good Morning...\n",
      "Welcome to the virtual book shop.\n",
      "Search for books in different 'Genre', 'Language', 'Author' and more..\n",
      " Enter Q to stop. \n",
      "genre\n",
      " \u001b[1;36m Check-out books on ['Classics', 'Science fiction', 'Mystery', 'Historical', 'Self help']  https://vitualbookhub/genres\n",
      "language\n",
      " \u001b[1;34m Check-out books on English  https://vitualbookhub/bookenglish\n",
      " \u001b[1;34m Check-out books on Malyalam  https://vitualbookhub/bookmalayalam\n",
      "author\n",
      " \u001b[1;32m Check-out list of books with authors on https://vitualbookhub/bookauthors\n",
      "thriller\n",
      " \u001b[1;30m Check out more books on https://virtualbookhub/home\n",
      "q\n",
      "See you soon.\n"
     ]
    }
   ],
   "source": [
    "print(\" \\033[1;38m Good Morning...\")\n",
    "print('Welcome to the virtual book shop.')\n",
    "print(\"Search for books in different 'Genre', 'Language', 'Author' and more..\\n Enter Q to stop. \")\n",
    "list_genre=['Classics','Science fiction','Mystery','Historical','Self help']\n",
    "list_lan=['English','Malyalam']\n",
    "while (1):\n",
    "    \n",
    "    x=input()\n",
    "    \n",
    "    x=x.lower()\n",
    "    y=x.split()\n",
    "    \n",
    "    if x=='q':\n",
    "        print(\"See you soon.\")\n",
    "        break\n",
    "    elif len(y)==0:\n",
    "        print(\"Enter your quiry\")\n",
    "    elif x=='genre':\n",
    "        print(\" \\033[1;36m Check-out books on\", list_genre,' https://vitualbookhub/genres')\n",
    "    elif x=='language':  \n",
    "        print(\" \\033[1;34m Check-out books on\", list_lan[0],' https://vitualbookhub/bookenglish')\n",
    "        print(\" \\033[1;34m Check-out books on\", list_lan[1],' https://vitualbookhub/bookmalayalam')\n",
    "    elif x=='author':\n",
    "        print(\" \\033[1;32m Check-out list of books with authors on https://vitualbookhub/bookauthors\")\n",
    "    else:\n",
    "        print(\" \\033[1;30m Check out more books on https://virtualbookhub/home\")\n",
    "        "
   ]
  },
  {
   "cell_type": "raw",
   "id": "9fdef0d8",
   "metadata": {},
   "source": [
    "7. Write a program to find the roots of a quadratic equation. \n",
    "Get the co-efficients of quadratic equation ax^2+bx+c and display whether the roots are real and equal or real and distinct or roots are imaginary. You have to find the roots and display it as well."
   ]
  },
  {
   "cell_type": "code",
   "execution_count": 7,
   "id": "eeae8f37",
   "metadata": {},
   "outputs": [
    {
     "name": "stdout",
     "output_type": "stream",
     "text": [
      "\u001b[1m Roots of Quadratic Equation Calculator\u001b[0m\n",
      "Enter the coefficients a,b,c in ax^2+bx+c:  3,0,1\n",
      "The roots are imaginary\n",
      "The roots are distinct\n",
      "roots of 3.0x^2 + 0.0x + 1.0 are 0.00+0.58j and -0.00-0.58j\n"
     ]
    }
   ],
   "source": [
    "root_1,root_2=0,0\n",
    "print(\"\\033[1m Roots of Quadratic Equation Calculator\\033[0m\")\n",
    "a,b,c=[float(x) for x in input(\"Enter the coefficients a,b,c in ax^2+bx+c:  \").split(\",\")]\n",
    "\n",
    "k1=b**2-4*a*c\n",
    "root_1=(-1*b+k1**(1/2))/(2*a)\n",
    "root_2=(-1*b-k1**(1/2))/(2*a)\n",
    "\n",
    "if k1>=0:\n",
    "    print(\"The roots are real\")\n",
    "if k1<0:\n",
    "    print(\"The roots are imaginary\")\n",
    "if root_1==root_2:\n",
    "    print(\"The roots are equal\")\n",
    "if root_1!=root_2:\n",
    "    print(\"The roots are distinct\")\n",
    "\n",
    "print(\"roots of {}x^2 + {}x + {} are {:.2f} and {:.2f}\".format(a,b,c,root_1,root_2))    \n",
    "    \n"
   ]
  },
  {
   "cell_type": "raw",
   "id": "7b48e8aa",
   "metadata": {},
   "source": [
    "8. Given a range of first 10 numbers, write a Python program to iterate from start number to the end number \n",
    "and print the sum of the current number and previous number.\n",
    "\n",
    "Sample input: \n",
    "1….10\n",
    "\n",
    "Sample output:\n",
    "Current Number 1 Previous Number 0 Sum: 1\n",
    "Current Number 2 Previous Number 1 Sum: 3\n",
    "Current Number 3 Previous Number 2 Sum: 5…\n",
    "…….\n",
    "Current Number 10 Previous Number 9 Sum: 19"
   ]
  },
  {
   "cell_type": "code",
   "execution_count": 8,
   "id": "e01d667a",
   "metadata": {},
   "outputs": [
    {
     "name": "stdout",
     "output_type": "stream",
     "text": [
      "Enter the range: 20,35\n",
      "\u001b[1m Current_number   Previous_number  Sum      \u001b[0m\n",
      " 20               19               39      \n",
      " 21               20               41      \n",
      " 22               21               43      \n",
      " 23               22               45      \n",
      " 24               23               47      \n",
      " 25               24               49      \n",
      " 26               25               51      \n",
      " 27               26               53      \n",
      " 28               27               55      \n",
      " 29               28               57      \n",
      " 30               29               59      \n",
      " 31               30               61      \n",
      " 32               31               63      \n",
      " 33               32               65      \n",
      " 34               33               67      \n",
      " 35               34               69      \n"
     ]
    }
   ],
   "source": [
    "a,b=[int(x) for x in input(\"Enter the range: \").split(\",\")]\n",
    "print(\"\\033[1m {:<16} {:<16} {:<8} \\033[0m\".format('Current_number','Previous_number','Sum'))\n",
    "for i in range(a,b+1):\n",
    "    print(\" {:<16} {:<16} {:<8}\".format(i,i-1,2*i-1))\n",
    "    "
   ]
  },
  {
   "cell_type": "raw",
   "id": "d3d60e92",
   "metadata": {},
   "source": [
    "9. Write a Python program to find the prime numbers in a given range. Get the range from user and print prime numbers in that range."
   ]
  },
  {
   "cell_type": "code",
   "execution_count": 9,
   "id": "dfa87420",
   "metadata": {},
   "outputs": [
    {
     "name": "stdout",
     "output_type": "stream",
     "text": [
      "Enter the range: 1,100\n",
      "The prime numbers between  2  and  100  are  [2, 3, 5, 7, 11, 13, 17, 19, 23, 29, 31, 37, 41, 43, 47, 53, 59, 61, 67, 71, 73, 79, 83, 89, 97]\n"
     ]
    }
   ],
   "source": [
    "a,b=[int(x) for x in input(\"Enter the range: \").split(\",\")]\n",
    "prime_num=[]\n",
    "\n",
    "if (a==0 or a==1):\n",
    "    a=2\n",
    "    \n",
    "for k in range(a,b+1):    \n",
    "    n=int(k**(1/2))    \n",
    "    for kk in range(2,n+1):        \n",
    "        if k%kk==0:\n",
    "            break\n",
    "    else:\n",
    "        prime_num.append(k)\n",
    "        \n",
    "print(\"The prime numbers between \",a,\" and \", b,\" are \", prime_num)        "
   ]
  },
  {
   "cell_type": "raw",
   "id": "24a4a79b",
   "metadata": {},
   "source": [
    "10. Write a Python program to print Fibonacci series in a given range. Get the range from user and print fibonacci numbers in that range.\n"
   ]
  },
  {
   "cell_type": "code",
   "execution_count": 11,
   "id": "0d86c997",
   "metadata": {},
   "outputs": [
    {
     "name": "stdout",
     "output_type": "stream",
     "text": [
      "Enter the range: 0,100\n",
      "Fibonacci series in the range 1 and 100 is [0, 1, 1, 1, 2, 3, 5, 8, 13, 21, 34, 55, 89]\n"
     ]
    }
   ],
   "source": [
    "low_a,high_b=[int(x) for x in input(\"Enter the range: \").split(\",\")]\n",
    "\n",
    "f1,f2=0,1\n",
    "s=0\n",
    "list_fib=[]\n",
    "ch=True\n",
    "\n",
    "if low_a==0:\n",
    "    low_a=1\n",
    "    list_fib.append(0)\n",
    "if low_a==1:\n",
    "    low_a=1\n",
    "    list_fib.append(1)\n",
    "       \n",
    "if low_a>high_b:\n",
    "    low_a,high_b=high_b,low_a\n",
    "while (ch):\n",
    "    f3=f1+f2\n",
    "    if f3>=low_a and f2<=low_a:\n",
    "        n_current= f2 if f2==low_a else f3\n",
    "        n_pre= f1 if n_current==f2 else f2\n",
    "        ch=False\n",
    "    else:\n",
    "        f1,f2=f2,f3\n",
    "\n",
    "list_fib.append(n_current)\n",
    "while(True):\n",
    "    s=n_pre+n_current\n",
    "    if s>high_b:\n",
    "        break\n",
    "    list_fib.append(s)\n",
    "    n_pre,n_current=n_current,s    \n",
    "print(\"Fibonacci series in the range {} and {} is {}\".format(low_a,high_b,list_fib))    \n",
    "    \n",
    "    \n",
    "    \n"
   ]
  },
  {
   "cell_type": "code",
   "execution_count": null,
   "id": "21e40613",
   "metadata": {},
   "outputs": [],
   "source": []
  }
 ],
 "metadata": {
  "kernelspec": {
   "display_name": "Python 3",
   "language": "python",
   "name": "python3"
  },
  "language_info": {
   "codemirror_mode": {
    "name": "ipython",
    "version": 3
   },
   "file_extension": ".py",
   "mimetype": "text/x-python",
   "name": "python",
   "nbconvert_exporter": "python",
   "pygments_lexer": "ipython3",
   "version": "3.8.8"
  }
 },
 "nbformat": 4,
 "nbformat_minor": 5
}
